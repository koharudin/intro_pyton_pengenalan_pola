{
 "cells": [
  {
   "cell_type": "code",
   "execution_count": 1,
   "metadata": {},
   "outputs": [
    {
     "name": "stdout",
     "output_type": "stream",
     "text": [
      "hello pyhton\n"
     ]
    }
   ],
   "source": [
    "print(\"hello pyhton\")"
   ]
  },
  {
   "cell_type": "markdown",
   "metadata": {},
   "source": [
    "# TUJUAN PRAKTIKUM"
   ]
  },
  {
   "cell_type": "markdown",
   "metadata": {},
   "source": [
    "Mahasiswa mampu menterjemahkan representasi data dalam Python dan\n",
    "manipulasinya sehingga bisa menjadi input bagi sistem pengenalan Pola"
   ]
  },
  {
   "cell_type": "markdown",
   "metadata": {},
   "source": [
    "## Review – Representasi Data dalam phyton"
   ]
  },
  {
   "cell_type": "markdown",
   "metadata": {},
   "source": [
    "# 1. Vector"
   ]
  },
  {
   "cell_type": "markdown",
   "metadata": {},
   "source": [
    "Deklarasi variabel diawali dengan\n",
    "Vektor dapat dituliskan dengan dan tanpa bantuan libarary "
   ]
  },
  {
   "cell_type": "code",
   "execution_count": 3,
   "metadata": {},
   "outputs": [
    {
     "name": "stdout",
     "output_type": "stream",
     "text": [
      "vektor default python\n",
      "\n"
     ]
    }
   ],
   "source": [
    "# vektor python numpy with range value\n",
    "import numpy as np\n",
    "print(\"vektor default python\\n\")\n",
    "a = np.arange(1,20,1)\n",
    "b = np.arange(1,20,2)"
   ]
  },
  {
   "cell_type": "code",
   "execution_count": 4,
   "metadata": {},
   "outputs": [
    {
     "name": "stdout",
     "output_type": "stream",
     "text": [
      " \n",
      " vektor via numpy \n",
      "\n"
     ]
    }
   ],
   "source": [
    "import numpy as np\n",
    "print (\" \\n vektor via numpy \\n\")"
   ]
  },
  {
   "cell_type": "code",
   "execution_count": 5,
   "metadata": {},
   "outputs": [],
   "source": [
    "# vektor via numpy\n",
    "c = np.array ([1,2,3,4,5])\n",
    "d = np.array ([1.5, 2.5, 5, 6, 7])"
   ]
  },
  {
   "cell_type": "code",
   "execution_count": 6,
   "metadata": {},
   "outputs": [
    {
     "data": {
      "text/plain": [
       "(5,)"
      ]
     },
     "execution_count": 6,
     "metadata": {},
     "output_type": "execute_result"
    }
   ],
   "source": [
    "c.shape"
   ]
  },
  {
   "cell_type": "code",
   "execution_count": 7,
   "metadata": {},
   "outputs": [
    {
     "data": {
      "text/plain": [
       "array([1, 2, 3, 4, 5])"
      ]
     },
     "execution_count": 7,
     "metadata": {},
     "output_type": "execute_result"
    }
   ],
   "source": [
    "c"
   ]
  },
  {
   "cell_type": "code",
   "execution_count": 8,
   "metadata": {},
   "outputs": [
    {
     "data": {
      "text/plain": [
       "array([ 1,  2,  3,  4,  5,  6,  7,  8,  9, 10, 11, 12, 13, 14, 15, 16, 17,\n",
       "       18, 19])"
      ]
     },
     "execution_count": 8,
     "metadata": {},
     "output_type": "execute_result"
    }
   ],
   "source": [
    "a"
   ]
  },
  {
   "cell_type": "code",
   "execution_count": 9,
   "metadata": {},
   "outputs": [
    {
     "name": "stdout",
     "output_type": "stream",
     "text": [
      "[ 1  2  3  4  5  6  7  8  9 10 11 12 13 14 15 16 17 18 19]\n",
      "[ 1  3  5  7  9 11 13 15 17 19]\n",
      "1\n",
      "(19,)\n"
     ]
    }
   ],
   "source": [
    "print(a)\n",
    "print(b)\n",
    "print(a.ndim)\n",
    "print(a.shape)"
   ]
  },
  {
   "cell_type": "markdown",
   "metadata": {},
   "source": [
    "# 2. Matriks"
   ]
  },
  {
   "cell_type": "markdown",
   "metadata": {},
   "source": [
    "Matriks adalah basic 2D table dari data dan dapat berisi nilai numerik dan/atau karakter.\n",
    "Dapat dibuat dengan cara sederhana dengan membuat urutan dari vektor, mengubah\n",
    "dari vektor atau membaca dari file "
   ]
  },
  {
   "cell_type": "code",
   "execution_count": 11,
   "metadata": {},
   "outputs": [
    {
     "name": "stdout",
     "output_type": "stream",
     "text": [
      "[[ 1  2  3  4  5]\n",
      " [ 6  7  8  9 10]\n",
      " [11 12 13 14 15]\n",
      " [16 17 18 19 20]]\n"
     ]
    }
   ],
   "source": [
    "# mengubah dari 1D menjadi matrik 2D\n",
    "a = np.arange(1,21,1)\n",
    "c = a.reshape((4,5))\n",
    "print(c)"
   ]
  },
  {
   "cell_type": "code",
   "execution_count": 12,
   "metadata": {},
   "outputs": [
    {
     "data": {
      "text/plain": [
       "array([ 1,  2,  3,  4,  5,  6,  7,  8,  9, 10, 11, 12, 13, 14, 15, 16, 17,\n",
       "       18, 19, 20])"
      ]
     },
     "execution_count": 12,
     "metadata": {},
     "output_type": "execute_result"
    }
   ],
   "source": [
    "a"
   ]
  },
  {
   "cell_type": "markdown",
   "metadata": {},
   "source": [
    "# 3. List"
   ]
  },
  {
   "cell_type": "markdown",
   "metadata": {},
   "source": [
    "List merupakan merupakan representasi struktur data yang dapat menyimpan data\n",
    "dengan nilai numerik, karakter, dan lain-lain secara bersamaan"
   ]
  },
  {
   "cell_type": "code",
   "execution_count": 14,
   "metadata": {},
   "outputs": [
    {
     "name": "stdout",
     "output_type": "stream",
     "text": [
      "['apple', 'banana', 'cherry']\n"
     ]
    }
   ],
   "source": [
    "list1 = [\"apple\", \"banana\", \"cherry\"]\n",
    "list2 = [1, 5, 7, 9, 3]\n",
    "list3 = [True, False, False]\n",
    "list4 = [\"abc\", 34, True, 40, \"male\"]\n",
    "print(list1);"
   ]
  },
  {
   "cell_type": "code",
   "execution_count": 15,
   "metadata": {},
   "outputs": [
    {
     "data": {
      "text/plain": [
       "['abc', 34, True, 40, 'male']"
      ]
     },
     "execution_count": 15,
     "metadata": {},
     "output_type": "execute_result"
    }
   ],
   "source": [
    "list4"
   ]
  },
  {
   "cell_type": "code",
   "execution_count": 16,
   "metadata": {},
   "outputs": [
    {
     "name": "stdout",
     "output_type": "stream",
     "text": [
      "['abc', 34, True, 40, 'male']\n"
     ]
    }
   ],
   "source": [
    "print(list4)"
   ]
  },
  {
   "cell_type": "markdown",
   "metadata": {},
   "source": [
    "# 4. dataFrame"
   ]
  },
  {
   "cell_type": "markdown",
   "metadata": {},
   "source": [
    "Data frame adalah spesialisasi dari tipe list untuk menyimpan vektor ke dalam bentuk\n",
    "frame (menyerupai basis data). Kelebihan dibandingkan matriks adalah dapat\n",
    "dimanipulasi dalam berbagai bentuk dan cara."
   ]
  },
  {
   "cell_type": "code",
   "execution_count": 17,
   "metadata": {},
   "outputs": [
    {
     "name": "stdout",
     "output_type": "stream",
     "text": [
      "   a  b  c\n",
      "0  1  2  3\n",
      "1  4  5  6\n",
      "2  7  8  9\n"
     ]
    }
   ],
   "source": [
    "#data frame\n",
    "import pandas as pd\n",
    "df = pd.DataFrame(np.array([[1, 2, 3], [4, 5, 6], [7, 8, 9]]),\n",
    " columns=['a', 'b', 'c'])\n",
    "print(df)"
   ]
  },
  {
   "cell_type": "markdown",
   "metadata": {},
   "source": [
    "# Import dan Export data serta manipulasinya"
   ]
  },
  {
   "cell_type": "markdown",
   "metadata": {},
   "source": [
    "Buat file dengan header, misalkan terdiri dari Nama Pasisen, Umur, Penyakit, Gender seperti\n",
    "pada tabel berikut dan simpan kedalam format CSV dan Text (Tab delimeter)"
   ]
  },
  {
   "cell_type": "markdown",
   "metadata": {},
   "source": [
    "<img src=\"assets/gambar_data.jpg\">"
   ]
  },
  {
   "cell_type": "markdown",
   "metadata": {},
   "source": [
    "Kemudian lakukan pembacaan untuk file tersebut:"
   ]
  },
  {
   "cell_type": "code",
   "execution_count": 19,
   "metadata": {},
   "outputs": [
    {
     "name": "stdout",
     "output_type": "stream",
     "text": [
      "   Nama Pasien  Umur Gender Diagnosa Sakit\n",
      "0         Anto    24      L          Tidak\n",
      "1         Budi    35      L             Ya\n",
      "2          Adi    55      L             Ya\n",
      "3       Delima    32      P             Ya\n",
      "4         Dodi    21      L          Tidak\n",
      "5      Tukiyem    19      P          Tidak\n",
      "6         Rama    23      L          Tidak\n",
      "7        Santi    35      P          Tidak\n",
      "8         Mery    44      P             Ya\n",
      "9        Yanti    27      P          Tidak\n",
      "10       Parto    43      L             Ya\n",
      "11         Dea    24      P          Tidak\n"
     ]
    }
   ],
   "source": [
    "# Membaca data dari file dengan format CSV\n",
    "import pandas as pd\n",
    "data = pd.read_csv(\"assets/Data.csv\", sep=\";\")\n",
    "print(data)"
   ]
  },
  {
   "cell_type": "code",
   "execution_count": 21,
   "metadata": {},
   "outputs": [
    {
     "name": "stdout",
     "output_type": "stream",
     "text": [
      "\n",
      " read text data with tab delimiter\n",
      "NamaPasien\tUmur\tGender\tDiagnosa Sakit\n",
      "Anto\t\t24\tL\tTidak\n",
      "Budi\t\t35\tL\tYa\n",
      "Adi\t\t55\tL\tYa\n",
      "Delima\t\t32\tP\tYa\n",
      "Dodi\t\t21\tL\tTidak\n",
      "Tukiyem\t\t19\tP\tTidak\n",
      "Rama\t\t23\tL\tTidak\n",
      "Santi\t\t35\tP\tTidak\n",
      "Mery\t\t44\tP\tYa\n",
      "Yanti\t\t27\tP\tTidak\n",
      "Parto\t\t43\tL\tYa\n",
      "Dea\t\t24\tP\tTidak\n",
      "\n"
     ]
    }
   ],
   "source": [
    "# Membaca data dari file dengan format text (delimeter)\n",
    "print(\"\\n read text data with tab delimiter\")\n",
    "with open ('assets/Data.txt') as data:\n",
    " print(data.read()) "
   ]
  },
  {
   "cell_type": "code",
   "execution_count": 22,
   "metadata": {},
   "outputs": [
    {
     "name": "stdout",
     "output_type": "stream",
     "text": [
      "         time     40    50     60    70    80    90   100   110   120  ...  \\\n",
      "0     YAL001C -0.070 -0.23 -0.100  0.03 -0.04 -0.12 -0.28 -0.44 -0.09  ...   \n",
      "1     YAL014C  0.215  0.09  0.025 -0.04 -0.04 -0.02 -0.51 -0.08  0.00  ...   \n",
      "2     YAL016W  0.150  0.15  0.220  0.29 -0.10  0.15 -0.73  0.19 -0.15  ...   \n",
      "3     YAL020C -0.350 -0.28 -0.215 -0.15  0.16 -0.12  0.26  0.00  0.13  ...   \n",
      "4     YAL022C -0.415 -0.59 -0.580 -0.57 -0.09 -0.34  0.49  0.32  1.15  ...   \n",
      "...       ...    ...   ...    ...   ...   ...   ...   ...   ...   ...  ...   \n",
      "4376  YPR198W -0.060  0.08  0.210  0.34  0.65 -0.26  0.14 -0.33  0.53  ...   \n",
      "4377  YPR199C  0.155  0.19  0.235  0.28 -0.26  0.21 -0.40  0.34 -0.80  ...   \n",
      "4378  YPR201W -0.255 -0.36 -0.300 -0.24  1.30 -0.07  0.29 -0.20  0.25  ...   \n",
      "4379  YPR203W  0.570  0.12 -0.070 -0.26 -0.44 -0.21 -1.08  0.39 -0.17  ...   \n",
      "4380  YPR204W  0.405  0.17 -0.045 -0.26 -0.60 -0.09 -0.85  0.17 -0.05  ...   \n",
      "\n",
      "       170   180   190   200   210   220   230   240   250    260  \n",
      "0     0.59  0.34 -0.28 -0.09 -0.44  0.31  0.03  0.57  0.00  0.010  \n",
      "1    -0.30 -0.38  0.07 -0.04  0.13 -0.06 -0.26 -0.10  0.27  0.235  \n",
      "2     0.12 -0.17  0.11 -0.15  0.03 -0.26 -0.34 -0.34  0.25  0.190  \n",
      "3     0.07  0.61 -0.20  0.49 -0.43  0.80 -0.47  1.01 -0.36 -0.405  \n",
      "4    -0.48 -0.40 -0.59  0.54 -0.09  1.03  0.08  0.57 -0.26 -0.310  \n",
      "...    ...   ...   ...   ...   ...   ...   ...   ...   ...    ...  \n",
      "4376  0.14 -0.64 -0.26  0.53 -0.17  0.59 -0.96  0.40 -0.23 -0.325  \n",
      "4377  0.34  0.15  0.30 -0.06  0.13 -0.44 -1.03  0.14  0.30  0.250  \n",
      "4378 -0.81  0.89  0.07  1.04 -0.32  0.80 -0.13  0.84 -0.39 -0.415  \n",
      "4379  0.12 -0.96 -0.31 -0.81 -0.34 -1.21 -1.36 -0.12  0.69  0.555  \n",
      "4380  0.17 -1.90 -0.21 -0.45 -0.31 -0.39 -0.22 -0.08  0.65  0.520  \n",
      "\n",
      "[4381 rows x 24 columns]\n"
     ]
    }
   ],
   "source": [
    "# Membaca data dari URL\n",
    "import pandas as pd\n",
    "f = pd.read_csv('http://www.exploredata.net/ftp/Spellman.csv')\n",
    "print(f)"
   ]
  },
  {
   "cell_type": "markdown",
   "metadata": {},
   "source": [
    "Membaca file dan menyajikan dalam bentuk grafik.\n",
    "Untuk dapat menyajikan dalam bentuk grafik terlebih dahulu melakukan instalasi paket\n",
    "matplotlib. "
   ]
  },
  {
   "cell_type": "code",
   "execution_count": 24,
   "metadata": {},
   "outputs": [
    {
     "name": "stdout",
     "output_type": "stream",
     "text": [
      "[[1.000e+00 2.272e+03]\n",
      " [2.000e+00       nan]\n",
      " [3.000e+00 1.386e+03]\n",
      " [4.000e+00 1.365e+03]\n",
      " [5.000e+00 1.488e+03]\n",
      " [6.000e+00 1.337e+03]\n",
      " [7.000e+00 1.883e+03]\n",
      " [8.000e+00 2.283e+03]\n",
      " [9.000e+00 1.335e+03]\n",
      " [1.000e+01 1.025e+03]]\n",
      "(743, 2)\n"
     ]
    }
   ],
   "source": [
    "import numpy as sp\n",
    "traffic = sp.genfromtxt(\"assets/web_traffic.tsv\",delimiter='\\t')\n",
    "print(traffic[:10])\n",
    "print(traffic.shape)"
   ]
  },
  {
   "cell_type": "code",
   "execution_count": 25,
   "metadata": {},
   "outputs": [],
   "source": [
    "x = traffic[:,0]\n",
    "y = traffic[:,1]"
   ]
  },
  {
   "cell_type": "code",
   "execution_count": 26,
   "metadata": {},
   "outputs": [],
   "source": [
    "x = x[~sp.isnan(y)]\n",
    "y = y[~sp.isnan(y)]"
   ]
  },
  {
   "cell_type": "code",
   "execution_count": 27,
   "metadata": {},
   "outputs": [
    {
     "data": {
      "text/plain": [
       "array([  1.,   3.,   4.,   5.,   6.,   7.,   8.,   9.,  10.,  11.,  12.,\n",
       "        13.,  14.,  15.,  16.,  17.,  18.,  19.,  20.,  21.,  22.,  24.,\n",
       "        25.,  26.,  27.,  28.,  29.,  30.,  31.,  32.,  33.,  34.,  35.,\n",
       "        36.,  37.,  38.,  39.,  40.,  41.,  42.,  43.,  44.,  45.,  46.,\n",
       "        47.,  49.,  50.,  51.,  52.,  53.,  54.,  55.,  56.,  57.,  58.,\n",
       "        59.,  60.,  61.,  62.,  63.,  64.,  65.,  66.,  67.,  68.,  69.,\n",
       "        70.,  71.,  72.,  73.,  74.,  75.,  76.,  77.,  78.,  79.,  80.,\n",
       "        81.,  82.,  83.,  84.,  85.,  86.,  87.,  88.,  89.,  90.,  91.,\n",
       "        92.,  93.,  94.,  96.,  97.,  98.,  99., 100., 101., 102., 103.,\n",
       "       104., 105., 106., 107., 108., 109., 110., 111., 112., 113., 114.,\n",
       "       115., 116., 117., 118., 119., 120., 121., 122., 123., 124., 125.,\n",
       "       126., 127., 128., 129., 130., 131., 132., 133., 134., 135., 136.,\n",
       "       137., 138., 139., 140., 141., 142., 143., 144., 145., 146., 147.,\n",
       "       148., 149., 150., 151., 152., 153., 155., 156., 157., 158., 159.,\n",
       "       160., 161., 162., 163., 164., 165., 166., 167., 168., 169., 170.,\n",
       "       171., 172., 173., 174., 175., 176., 177., 178., 179., 182., 183.,\n",
       "       184., 185., 186., 187., 188., 189., 190., 191., 192., 193., 194.,\n",
       "       195., 196., 197., 198., 199., 200., 201., 202., 203., 204., 205.,\n",
       "       206., 207., 208., 209., 211., 212., 213., 214., 215., 216., 217.,\n",
       "       218., 219., 220., 221., 222., 223., 224., 225., 226., 227., 228.,\n",
       "       229., 230., 231., 232., 233., 234., 235., 236., 237., 238., 239.,\n",
       "       240., 241., 242., 243., 244., 245., 246., 247., 248., 249., 250.,\n",
       "       251., 252., 253., 254., 255., 256., 257., 258., 259., 260., 261.,\n",
       "       262., 263., 264., 265., 266., 267., 268., 269., 270., 271., 272.,\n",
       "       273., 274., 275., 276., 277., 278., 279., 280., 281., 282., 283.,\n",
       "       284., 285., 286., 287., 288., 289., 290., 291., 292., 293., 294.,\n",
       "       295., 296., 297., 298., 299., 300., 301., 302., 303., 304., 305.,\n",
       "       306., 307., 308., 309., 310., 311., 312., 313., 314., 315., 316.,\n",
       "       317., 318., 319., 320., 321., 322., 323., 324., 325., 326., 327.,\n",
       "       328., 329., 330., 331., 332., 333., 334., 335., 336., 337., 338.,\n",
       "       339., 340., 341., 342., 343., 344., 345., 346., 347., 348., 349.,\n",
       "       350., 351., 352., 353., 354., 355., 356., 357., 358., 359., 360.,\n",
       "       361., 362., 363., 364., 365., 366., 367., 368., 369., 370., 371.,\n",
       "       372., 373., 374., 375., 376., 377., 378., 379., 380., 381., 382.,\n",
       "       383., 384., 385., 386., 387., 388., 389., 390., 391., 392., 393.,\n",
       "       394., 395., 396., 397., 398., 399., 400., 401., 402., 403., 404.,\n",
       "       405., 406., 407., 408., 409., 410., 411., 412., 413., 414., 415.,\n",
       "       416., 417., 418., 419., 420., 421., 422., 423., 424., 425., 426.,\n",
       "       427., 428., 429., 430., 431., 432., 433., 434., 435., 436., 437.,\n",
       "       438., 439., 440., 441., 442., 443., 444., 445., 446., 447., 448.,\n",
       "       449., 450., 451., 452., 453., 454., 455., 456., 457., 458., 459.,\n",
       "       460., 461., 462., 463., 464., 465., 466., 467., 468., 469., 470.,\n",
       "       471., 472., 473., 474., 475., 476., 477., 478., 479., 480., 481.,\n",
       "       482., 483., 484., 485., 486., 487., 488., 489., 490., 491., 492.,\n",
       "       493., 494., 495., 496., 497., 498., 499., 500., 501., 502., 503.,\n",
       "       504., 505., 506., 507., 508., 509., 510., 511., 512., 513., 514.,\n",
       "       515., 516., 517., 518., 519., 520., 521., 522., 523., 524., 525.,\n",
       "       526., 527., 528., 529., 530., 531., 532., 533., 534., 535., 536.,\n",
       "       537., 538., 539., 540., 541., 542., 543., 544., 545., 546., 547.,\n",
       "       548., 549., 550., 551., 552., 553., 554., 555., 556., 557., 558.,\n",
       "       559., 560., 561., 562., 563., 564., 565., 566., 567., 568., 569.,\n",
       "       570., 571., 572., 573., 574., 575., 576., 577., 578., 579., 580.,\n",
       "       581., 582., 583., 584., 585., 586., 587., 588., 589., 590., 591.,\n",
       "       592., 593., 594., 595., 596., 597., 598., 599., 600., 601., 602.,\n",
       "       603., 604., 605., 606., 607., 608., 609., 610., 611., 612., 613.,\n",
       "       614., 615., 616., 617., 618., 619., 620., 621., 622., 623., 624.,\n",
       "       625., 626., 627., 628., 629., 630., 631., 632., 633., 634., 635.,\n",
       "       636., 637., 638., 639., 640., 641., 642., 643., 644., 645., 646.,\n",
       "       647., 648., 649., 650., 651., 652., 653., 654., 655., 656., 657.,\n",
       "       658., 659., 660., 661., 662., 663., 664., 665., 666., 667., 668.,\n",
       "       669., 670., 671., 672., 673., 674., 675., 676., 677., 678., 679.,\n",
       "       680., 681., 682., 683., 684., 685., 686., 687., 688., 689., 690.,\n",
       "       691., 692., 693., 694., 695., 696., 697., 698., 699., 700., 701.,\n",
       "       702., 703., 704., 705., 706., 707., 708., 709., 710., 711., 712.,\n",
       "       713., 714., 715., 716., 717., 718., 719., 720., 721., 722., 723.,\n",
       "       724., 725., 726., 727., 728., 729., 730., 731., 732., 733., 734.,\n",
       "       735., 736., 737., 738., 739., 740., 741., 742., 743.])"
      ]
     },
     "execution_count": 27,
     "metadata": {},
     "output_type": "execute_result"
    }
   ],
   "source": [
    "x"
   ]
  },
  {
   "cell_type": "code",
   "execution_count": 28,
   "metadata": {},
   "outputs": [
    {
     "data": {
      "text/plain": [
       "(735,)"
      ]
     },
     "execution_count": 28,
     "metadata": {},
     "output_type": "execute_result"
    }
   ],
   "source": [
    "x.shape"
   ]
  },
  {
   "cell_type": "code",
   "execution_count": 31,
   "metadata": {},
   "outputs": [
    {
     "data": {
      "image/png": "[encoded data removed]",
      "text/plain": [
       "<Figure size 432x288 with 1 Axes>"
      ]
     },
     "metadata": {
      "needs_background": "light"
     },
     "output_type": "display_data"
    }
   ],
   "source": [
    "import matplotlib.pyplot as plt\n",
    "plt.scatter(x,y)\n",
    "plt.title(\"Web traffic last month\")\n",
    "plt.xlabel(\"Time\")\n",
    "plt.ylabel(\"Hits/hour\")\n",
    "plt.xticks([w*7*24 for w in range(10)],['week %i' %w for w in\n",
    "range(10)])\n",
    "plt.autoscale(tight=True)\n",
    "plt.grid()"
   ]
  },
  {
   "cell_type": "code",
   "execution_count": 33,
   "metadata": {},
   "outputs": [
    {
     "name": "stdout",
     "output_type": "stream",
     "text": [
      "Collecting opencv-contrib-python\n",
      "  Downloading opencv_contrib_python-4.5.1.48-cp38-cp38-macosx_10_13_x86_64.whl (51.3 MB)\n",
      "\u001b[K     |████████████████████████████████| 51.3 MB 3.3 MB/s eta 0:00:01\n",
      "\u001b[?25hRequirement already satisfied: numpy>=1.17.3 in /Users/koharudin/opt/anaconda3/lib/python3.8/site-packages (from opencv-contrib-python) (1.19.5)\n",
      "Installing collected packages: opencv-contrib-python\n",
      "Successfully installed opencv-contrib-python-4.5.1.48\n"
     ]
    }
   ],
   "source": [
    "# Operasi image pada Python \n",
    "# Instalasi paket open cv\n",
    "!pip install opencv-contrib-python "
   ]
  },
  {
   "cell_type": "code",
   "execution_count": 34,
   "metadata": {},
   "outputs": [],
   "source": [
    "# pilihan load image (contoh logo ipb)"
   ]
  },
  {
   "cell_type": "code",
   "execution_count": null,
   "metadata": {},
   "outputs": [
    {
     "name": "stdout",
     "output_type": "stream",
     "text": [
      "read images using opencv\n",
      "(402, 410, 3)\n",
      "494460\n"
     ]
    }
   ],
   "source": [
    "import matplotlib.pyplot as plt\n",
    "import cv2\n",
    "import numpy as np\n",
    "print(\"read images using opencv\")\n",
    "five = cv2.imread(\"assets/5.png\")\n",
    "print(five.shape)\n",
    "print(five.size)\n",
    "plt.imshow(five)"
   ]
  },
  {
   "cell_type": "code",
   "execution_count": null,
   "metadata": {},
   "outputs": [],
   "source": [
    "cv2.waitKey(0)"
   ]
  }
 ],
 "metadata": {
  "kernelspec": {
   "display_name": "Python 3",
   "language": "python",
   "name": "python3"
  },
  "language_info": {
   "codemirror_mode": {
    "name": "ipython",
    "version": 3
   },
   "file_extension": ".py",
   "mimetype": "text/x-python",
   "name": "python",
   "nbconvert_exporter": "python",
   "pygments_lexer": "ipython3",
   "version": "3.8.3"
  }
 },
 "nbformat": 4,
 "nbformat_minor": 4
}
